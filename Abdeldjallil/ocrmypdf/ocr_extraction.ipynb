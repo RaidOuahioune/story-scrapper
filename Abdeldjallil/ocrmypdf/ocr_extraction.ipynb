{
 "cells": [
  {
   "cell_type": "code",
   "execution_count": 3,
   "metadata": {},
   "outputs": [
    {
     "name": "stdout",
     "output_type": "stream",
     "text": [
      "OCR completed successfully for short_story.pdf. Output saved to short_story.pdf.pdf.\n"
     ]
    },
    {
     "data": {
      "text/plain": [
       "True"
      ]
     },
     "execution_count": 3,
     "metadata": {},
     "output_type": "execute_result"
    }
   ],
   "source": [
    "import subprocess\n",
    "\n",
    "def ocr_pdf(input_pdf, output_pdf, language=\"ara\"):\n",
    "    \"\"\"\n",
    "    This function runs ocrmypdf to perform OCR on a PDF with the specified language.\n",
    "    \n",
    "    Args:\n",
    "    input_pdf (str): Path to the input PDF.\n",
    "    output_pdf (str): Path to the output PDF with OCR.\n",
    "    language (str): Language code for OCR. Default is 'ara' for Arabic.\n",
    "    \n",
    "    Returns:\n",
    "    bool: True if OCR is successful, False otherwise.\n",
    "    \"\"\"\n",
    "    try:\n",
    "        # Construct the ocrmypdf command\n",
    "        command = [\n",
    "            \"ocrmypdf\",\n",
    "            \"--language\", language,   # Specify the OCR language\n",
    "            input_pdf,                # Input PDF file\n",
    "            output_pdf                # Output PDF file\n",
    "        ]\n",
    "        \n",
    "        # Run the command\n",
    "        result = subprocess.run(command, check=True, stdout=subprocess.PIPE, stderr=subprocess.PIPE)\n",
    "        \n",
    "        # Check if the command was successful\n",
    "        if result.returncode == 0:\n",
    "            print(f\"OCR completed successfully for {input_pdf}. Output saved to {output_pdf}.\")\n",
    "            return True\n",
    "        else:\n",
    "            print(f\"OCR failed for {input_pdf}.\")\n",
    "            print(result.stderr.decode('utf-8'))\n",
    "            return False\n",
    "    \n",
    "    except subprocess.CalledProcessError as e:\n",
    "        print(f\"An error occurred: {e.stderr.decode('utf-8')}\")\n",
    "        return False\n",
    "\n",
    "# Example usage\n",
    "input_pdf = \"short_story.pdf\"   # Replace with your input PDF path\n",
    "output_pdf =input_pdf+\".pdf\"    # Replace with your output PDF path\n",
    "\n",
    "# Run OCR with Arabic language\n",
    "ocr_pdf(input_pdf, output_pdf, language=\"ara\")\n"
   ]
  },
  {
   "cell_type": "code",
   "execution_count": 5,
   "metadata": {},
   "outputs": [
    {
     "name": "stdout",
     "output_type": "stream",
     "text": [
      "PDF converted to DOCX and saved as: output.docx\n"
     ]
    }
   ],
   "source": [
    "import pdfplumber\n",
    "from docx import Document\n",
    "\n",
    "def pdf_to_docx(pdf_path, docx_path):\n",
    "    \"\"\"\n",
    "    Converts a PDF file to a Word document (.docx).\n",
    "    \n",
    "    Args:\n",
    "    pdf_path (str): Path to the input PDF file.\n",
    "    docx_path (str): Path to save the output Word document.\n",
    "    \"\"\"\n",
    "import pdfplumber\n",
    "from docx import Document\n",
    "\n",
    "def pdf_to_docx_with_layout(pdf_path, docx_path):\n",
    "    \"\"\"\n",
    "    Converts a PDF file to a Word document (.docx) with improved text layout handling.\n",
    "    \n",
    "    Args:\n",
    "    pdf_path (str): Path to the input PDF file.\n",
    "    docx_path (str): Path to save the output Word document.\n",
    "    \"\"\"\n",
    "    # Create a new Word document\n",
    "    doc = Document()\n",
    "    \n",
    "    # Open the PDF\n",
    "    with pdfplumber.open(pdf_path) as pdf:\n",
    "        # Loop through all the pages\n",
    "        for page_num, page in enumerate(pdf.pages):\n",
    "            # Extract text with layout preservation\n",
    "            text = page.extract_text(layout=True)\n",
    "            if text:\n",
    "                # Add the text to the Word document with formatting\n",
    "                doc.add_paragraph(text)\n",
    "            else:\n",
    "                doc.add_paragraph(f\"[Page {page_num + 1} has no extractable text]\")\n",
    "    \n",
    "    # Save the Word document\n",
    "    doc.save(docx_path)\n",
    "    print(f\"PDF converted to DOCX and saved as: {docx_path}\")\n",
    "\n",
    "# Example usage\n",
    "pdf_path = output_pdf   # Replace with the path to your PDF\n",
    "docx_path = \"output.docx\" # Replace with the path to save the DOCX\n",
    "\n",
    "pdf_to_docx_with_layout(pdf_path, docx_path)\n",
    "\n",
    "\n",
    "\n",
    "\n"
   ]
  },
  {
   "cell_type": "code",
   "execution_count": 4,
   "metadata": {},
   "outputs": [
    {
     "name": "stdout",
     "output_type": "stream",
     "text": [
      "ا حم ال\n",
      ": : , > الكو لمم من_اداتدك لد #ليى انخددال يا\n",
      "| اليل ام الى رةه اسان ف رمخ + 0 ٍِ : 5\n",
      "ّ! ل 1\n",
      ": 2 ء. ينا : - ب\" > ده تابه\n",
      "ل ما ٍ 0 0 0 : بس جو *, ًِ ِ\n",
      ": ساك شاي علد تحن انها ميت ادك ب :\n",
      ": ب و اليب اذ لك لاح الس سس |\n",
      "للها ال اند لان لتتحبب عي أ ا 8 إٍ\n",
      ":\n",
      "|4 |\n",
      "ا\n",
      ": إً\n",
      "1 ل ,\n",
      "1 |\n",
      "ٍ : ل برا !\n",
      "ل ِ ص : ب اع ماد ).\n",
      "1 ديرا لاء لأها ماك اللخ رخ ا\n",
      "8 اس أت ود خلك بلصت زر عاد جب رك 7 : |\n",
      "1 ون ب وليب .\n",
      "‎١ 0 1‏ اا ل ا ب اح ل لحب 1\n",
      "1 لاج د” (حضية لسع و با حم اح ل ى ض\n",
      "1 نا لج تبسح !ات ب ل\n",
      "1 ثرا رأ مين لكل الاك لخر ميا الات :\n",
      "1 ٍ مرا ع |\n",
      "1 0 0 ل« ري > يلحال 1\n",
      ": ل لحان 7. : : ب\n",
      ". قات 8 ل “واس . دارزل 1 ات ب : نخدم ٍ\n",
      "1 نم لحك اا ل فر (... ا رابيث 2 1 ‎١‏\n",
      "‏لا داشا رس إلهى لمع مر ب ‎٠#”‏ - ِ!\n",
      "ع ٍ - |\n",
      "ٍ ل ‎١‏ ايل ا ونساهيا ما لالد مها إٍِ\n",
      "ٍ بي أن (سا_بحاك :تقل ) برح تي ان\n",
      "ل 8 ل لحي 8 + +\n",
      "0 ٍِ ع2 لا اع يد ٍ : : : |\n",
      ": ب : ذا ا لاي 4 انث ؟ ورحك يسن : قا منج\n",
      "1 شري لماعي تخلالهة ل*# نر ا ب ا\n",
      ". 0 1 ا ا لا ا ًّ -\n",
      ",عد حيث نحتما زول قربا عد النجره جر ء تن حي ا\n",
      "‎١ . 1‏ ليم\n",
      "الا اند اا الاين ل\n",
      "اال ل الي\n",
      "\n"
     ]
    }
   ],
   "source": []
  }
 ],
 "metadata": {
  "kernelspec": {
   "display_name": "tf_gpu",
   "language": "python",
   "name": "python3"
  },
  "language_info": {
   "codemirror_mode": {
    "name": "ipython",
    "version": 3
   },
   "file_extension": ".py",
   "mimetype": "text/x-python",
   "name": "python",
   "nbconvert_exporter": "python",
   "pygments_lexer": "ipython3",
   "version": "3.10.15"
  }
 },
 "nbformat": 4,
 "nbformat_minor": 2
}
